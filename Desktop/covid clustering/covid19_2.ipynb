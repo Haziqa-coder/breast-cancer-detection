{
 "cells": [
  {
   "cell_type": "code",
   "execution_count": 1,
   "metadata": {},
   "outputs": [],
   "source": [
    "import numpy as np \n",
    "import pandas as pd "
   ]
  },
  {
   "cell_type": "code",
   "execution_count": 3,
   "metadata": {},
   "outputs": [],
   "source": [
    "import matplotlib.pyplot as plt\n",
    "import seaborn as sns"
   ]
  },
  {
   "cell_type": "code",
   "execution_count": 3,
   "metadata": {},
   "outputs": [
    {
     "name": "stdout",
     "output_type": "stream",
     "text": [
      "Requirement already satisfied: scikit-learn-extra in c:\\users\\adminpc\\anaconda3\\lib\\site-packages (0.1.0b2)\n",
      "Requirement already satisfied: numpy>=1.13.3 in c:\\users\\adminpc\\anaconda3\\lib\\site-packages (from scikit-learn-extra) (1.18.1)\n",
      "Requirement already satisfied: scikit-learn>=0.21.0 in c:\\users\\adminpc\\anaconda3\\lib\\site-packages (from scikit-learn-extra) (0.23.2)\n",
      "Requirement already satisfied: scipy>=0.19.1 in c:\\users\\adminpc\\anaconda3\\lib\\site-packages (from scikit-learn-extra) (1.4.1)\n",
      "Requirement already satisfied: joblib>=0.11 in c:\\users\\adminpc\\anaconda3\\lib\\site-packages (from scikit-learn>=0.21.0->scikit-learn-extra) (0.14.1)\n",
      "Requirement already satisfied: threadpoolctl>=2.0.0 in c:\\users\\adminpc\\anaconda3\\lib\\site-packages (from scikit-learn>=0.21.0->scikit-learn-extra) (2.1.0)\n",
      "Note: you may need to restart the kernel to use updated packages.\n"
     ]
    }
   ],
   "source": [
    "pip install scikit-learn-extra"
   ]
  },
  {
   "cell_type": "code",
   "execution_count": 2,
   "metadata": {},
   "outputs": [],
   "source": [
    "covid=pd.read_csv('covid_1.csv')"
   ]
  },
  {
   "cell_type": "code",
   "execution_count": 5,
   "metadata": {},
   "outputs": [
    {
     "data": {
      "text/plain": [
       "Index(['sex', 'patient_type', 'intubated', 'pneumonia', 'age', 'pregnant',\n",
       "       'diabetes', 'copd', 'asthma', 'immunosuppression', 'hypertension',\n",
       "       'other_diseases', 'cardiovascular', 'obesity', 'chronic_kidney_failure',\n",
       "       'smoker', 'another_case', 'outcome', 'icu', 'death_date'],\n",
       "      dtype='object')"
      ]
     },
     "execution_count": 5,
     "metadata": {},
     "output_type": "execute_result"
    }
   ],
   "source": [
    "covid.columns"
   ]
  },
  {
   "cell_type": "code",
   "execution_count": 6,
   "metadata": {},
   "outputs": [
    {
     "data": {
      "text/plain": [
       "(95839, 20)"
      ]
     },
     "execution_count": 6,
     "metadata": {},
     "output_type": "execute_result"
    }
   ],
   "source": [
    "covid.shape"
   ]
  },
  {
   "cell_type": "code",
   "execution_count": 7,
   "metadata": {},
   "outputs": [
    {
     "data": {
      "text/plain": [
       "sex                        int64\n",
       "patient_type               int64\n",
       "intubated                  int64\n",
       "pneumonia                  int64\n",
       "age                        int64\n",
       "pregnant                   int64\n",
       "diabetes                   int64\n",
       "copd                       int64\n",
       "asthma                     int64\n",
       "immunosuppression          int64\n",
       "hypertension               int64\n",
       "other_diseases             int64\n",
       "cardiovascular             int64\n",
       "obesity                    int64\n",
       "chronic_kidney_failure     int64\n",
       "smoker                     int64\n",
       "another_case               int64\n",
       "outcome                    int64\n",
       "icu                        int64\n",
       "death_date                object\n",
       "dtype: object"
      ]
     },
     "execution_count": 7,
     "metadata": {},
     "output_type": "execute_result"
    }
   ],
   "source": [
    "covid.dtypes"
   ]
  },
  {
   "cell_type": "markdown",
   "metadata": {},
   "source": [
    "<H2>Data Preprocessing</H2>"
   ]
  },
  {
   "cell_type": "markdown",
   "metadata": {},
   "source": [
    "<H5>First of all, we will look for the null/missing values. We found no missing values in the data.</H5>"
   ]
  },
  {
   "cell_type": "code",
   "execution_count": 8,
   "metadata": {},
   "outputs": [
    {
     "data": {
      "text/plain": [
       "sex                       0\n",
       "patient_type              0\n",
       "intubated                 0\n",
       "pneumonia                 0\n",
       "age                       0\n",
       "pregnant                  0\n",
       "diabetes                  0\n",
       "copd                      0\n",
       "asthma                    0\n",
       "immunosuppression         0\n",
       "hypertension              0\n",
       "other_diseases            0\n",
       "cardiovascular            0\n",
       "obesity                   0\n",
       "chronic_kidney_failure    0\n",
       "smoker                    0\n",
       "another_case              0\n",
       "outcome                   0\n",
       "icu                       0\n",
       "death_date                0\n",
       "dtype: int64"
      ]
     },
     "execution_count": 8,
     "metadata": {},
     "output_type": "execute_result"
    }
   ],
   "source": [
    "covid.isnull().sum()"
   ]
  },
  {
   "cell_type": "code",
   "execution_count": 48,
   "metadata": {},
   "outputs": [],
   "source": [
    "covid = covid.drop('death_date', axis = 1)"
   ]
  },
  {
   "cell_type": "markdown",
   "metadata": {},
   "source": [
    "<H2>Standardize Data</H2>"
   ]
  },
  {
   "cell_type": "code",
   "execution_count": 49,
   "metadata": {},
   "outputs": [],
   "source": [
    "from sklearn.preprocessing import StandardScaler\n",
    "\n",
    "scaler = StandardScaler()\n",
    "covid_std = scaler.fit_transform(covid)"
   ]
  },
  {
   "cell_type": "markdown",
   "metadata": {},
   "source": [
    "<H2>PCA</H2>\n",
    "<p>we will apply PCA for dimensionality reduction and important feature selection</p>"
   ]
  },
  {
   "cell_type": "code",
   "execution_count": 56,
   "metadata": {},
   "outputs": [
    {
     "data": {
      "text/plain": [
       "PCA()"
      ]
     },
     "execution_count": 56,
     "metadata": {},
     "output_type": "execute_result"
    }
   ],
   "source": [
    "from sklearn.decomposition import PCA\n",
    "pca = PCA()\n",
    "pca.fit(covid_std)"
   ]
  },
  {
   "cell_type": "code",
   "execution_count": 57,
   "metadata": {},
   "outputs": [
    {
     "data": {
      "text/plain": [
       "array([4.60355448e-01, 1.74476783e-01, 1.02482987e-01, 5.28462610e-02,\n",
       "       5.09977634e-02, 4.69696306e-02, 4.52610006e-02, 1.59872647e-02,\n",
       "       1.05892192e-02, 8.54348363e-03, 7.15690893e-03, 6.04432197e-03,\n",
       "       5.07444347e-03, 4.66755419e-03, 4.31872165e-03, 3.92365249e-03,\n",
       "       2.55316083e-04, 4.75013780e-05, 1.73820701e-06])"
      ]
     },
     "execution_count": 57,
     "metadata": {},
     "output_type": "execute_result"
    }
   ],
   "source": [
    "pca.explained_variance_ratio_"
   ]
  },
  {
   "cell_type": "code",
   "execution_count": 59,
   "metadata": {},
   "outputs": [
    {
     "data": {
      "text/plain": [
       "Text(0, 0.5, 'Cumulative explained variance')"
      ]
     },
     "execution_count": 59,
     "metadata": {},
     "output_type": "execute_result"
    },
    {
     "data": {
      "image/png": "[encoded data removed]",
      "text/plain": [
       "<Figure size 576x432 with 1 Axes>"
      ]
     },
     "metadata": {
      "needs_background": "light"
     },
     "output_type": "display_data"
    }
   ],
   "source": [
    "plt.figure(figsize = (8,6))\n",
    "plt.plot(range(1,20), pca.explained_variance_ratio_.cumsum(), marker='o', linestyle='--')\n",
    "plt.title('Variance by Components')\n",
    "plt.xlabel('Number of components')\n",
    "plt.ylabel('Cumulative explained variance')\n"
   ]
  },
  {
   "cell_type": "markdown",
   "metadata": {},
   "source": [
    "It's advisable to preserve 80% of variance. So by looking at the graph, we decide to keep 7 components"
   ]
  },
  {
   "cell_type": "code",
   "execution_count": 97,
   "metadata": {},
   "outputs": [],
   "source": [
    "pca = PCA(n_components = 6)"
   ]
  },
  {
   "cell_type": "code",
   "execution_count": 98,
   "metadata": {},
   "outputs": [
    {
     "data": {
      "text/plain": [
       "PCA(n_components=6)"
      ]
     },
     "execution_count": 98,
     "metadata": {},
     "output_type": "execute_result"
    }
   ],
   "source": [
    "pca.fit(covid_std)"
   ]
  },
  {
   "cell_type": "code",
   "execution_count": 99,
   "metadata": {},
   "outputs": [
    {
     "data": {
      "text/plain": [
       "array([[ 0.09123853, -0.11855312,  0.20091249,  0.1659848 ,  0.78296381,\n",
       "        -0.64533965],\n",
       "       [-0.800369  ,  3.08841035,  0.4673573 , -1.05228366, -0.3068357 ,\n",
       "         0.72598464],\n",
       "       [-0.25311097,  3.1407079 ,  0.25319517, -0.99041632, -0.31536896,\n",
       "         0.71826028],\n",
       "       ...,\n",
       "       [ 0.13267379, -1.01189711,  0.0650151 ,  0.02167683,  0.63429865,\n",
       "        -0.60460382],\n",
       "       [ 0.14041301, -1.08566928,  0.13978763, -0.139779  ,  0.65671296,\n",
       "        -0.59778367],\n",
       "       [-0.81702742,  2.67890924, -0.13659572, -0.22351098, -0.80408541,\n",
       "         0.48630713]])"
      ]
     },
     "execution_count": 99,
     "metadata": {},
     "output_type": "execute_result"
    }
   ],
   "source": [
    "pca.transform(covid_std)"
   ]
  },
  {
   "cell_type": "code",
   "execution_count": 100,
   "metadata": {},
   "outputs": [],
   "source": [
    "scores_pca = pca.transform(covid_std)"
   ]
  },
  {
   "cell_type": "markdown",
   "metadata": {},
   "source": [
    "<H2>K means clustering</H2>\n",
    "<p>The PCA scores that we got in the above step will be incorporated into the K means algorithm\n",
    "<br>In order to calculate the optimal number of clusters for K mean algorithm, we will undergo three steps.\n",
    "    <br>1. We will run the algorithm for a number of clusters.\n",
    "    <br>2. Then we will determine WCSS-Within sum-of-square values. We will choose the value of k for where wcss starts to diminish.\n",
    "     <br>3. Through using Elbow method we will decide which k value is the best for our dataset."
   ]
  },
  {
   "cell_type": "code",
   "execution_count": 101,
   "metadata": {},
   "outputs": [],
   "source": [
    "from sklearn.cluster import KMeans\n",
    "\n",
    "wcss = []\n",
    "\n",
    "#we will try for a range of 20 clusters \n",
    "for i in range(1,21):\n",
    "    kmeans_pca = KMeans(n_clusters = i, init='k-means++', random_state = 42)\n",
    "    kmeans_pca.fit(scores_pca)\n",
    "    wcss.append(kmeans_pca.inertia_)"
   ]
  },
  {
   "cell_type": "code",
   "execution_count": 102,
   "metadata": {},
   "outputs": [
    {
     "data": {
      "image/png": "[encoded data removed]",
      "text/plain": [
       "<Figure size 432x288 with 1 Axes>"
      ]
     },
     "metadata": {
      "needs_background": "light"
     },
     "output_type": "display_data"
    }
   ],
   "source": [
    "plt.plot(range(1,21), wcss)\n",
    "plt.title('The Elbow Method')\n",
    "plt.xlabel('no of clusters')\n",
    "plt.ylabel('wcss')\n",
    "plt.show()"
   ]
  },
  {
   "cell_type": "markdown",
   "metadata": {},
   "source": [
    "As we can see from the graph that the elbow is at k=7. So the optimal value found for k is 7."
   ]
  },
  {
   "cell_type": "code",
   "execution_count": 103,
   "metadata": {},
   "outputs": [],
   "source": [
    "kmeans = KMeans(n_clusters= 7, init='k-means++', random_state=0)\n",
    "#ykmeans= kmeansmodel.fit_predict(X)"
   ]
  },
  {
   "cell_type": "code",
   "execution_count": 104,
   "metadata": {},
   "outputs": [],
   "source": [
    "final = kmeans.fit(scores_pca)"
   ]
  },
  {
   "cell_type": "code",
   "execution_count": 105,
   "metadata": {},
   "outputs": [],
   "source": [
    "labels = final.predict(scores_pca)"
   ]
  },
  {
   "cell_type": "code",
   "execution_count": 109,
   "metadata": {},
   "outputs": [
    {
     "data": {
      "image/png": "[encoded data removed]",
      "text/plain": [
       "<Figure size 432x288 with 1 Axes>"
      ]
     },
     "metadata": {
      "needs_background": "light"
     },
     "output_type": "display_data"
    }
   ],
   "source": [
    "plt.scatter(scores_pca[:, 1], scores_pca[:, 2], c=labels,\n",
    "            s=50, cmap='viridis');"
   ]
  },
  {
   "cell_type": "markdown",
   "metadata": {},
   "source": [
    "<H2>KMediods</H2>\n",
    "<p>We have to reduce the data size for K-mediods because it has O(n)^2. This dataset is very huge (95839, 20). In order to to process it on 4GB (my laptop's RAM), I have to reduce it considerably. "
   ]
  },
  {
   "cell_type": "code",
   "execution_count": 83,
   "metadata": {},
   "outputs": [],
   "source": [
    "X= covid.iloc[1:5000, 1:17].values"
   ]
  },
  {
   "cell_type": "code",
   "execution_count": 29,
   "metadata": {},
   "outputs": [
    {
     "data": {
      "text/plain": [
       "(4999, 16)"
      ]
     },
     "execution_count": 29,
     "metadata": {},
     "output_type": "execute_result"
    }
   ],
   "source": [
    "X.shape"
   ]
  },
  {
   "cell_type": "code",
   "execution_count": 84,
   "metadata": {},
   "outputs": [],
   "source": [
    "scaler = StandardScaler()\n",
    "covid_std = scaler.fit_transform(X)"
   ]
  },
  {
   "cell_type": "code",
   "execution_count": 85,
   "metadata": {},
   "outputs": [
    {
     "data": {
      "text/plain": [
       "PCA(n_components=0.95)"
      ]
     },
     "execution_count": 85,
     "metadata": {},
     "output_type": "execute_result"
    }
   ],
   "source": [
    "from sklearn.decomposition import PCA\n",
    "\n",
    "pca = PCA(n_components=0.95)\n",
    "pca.fit(covid_std)"
   ]
  },
  {
   "cell_type": "code",
   "execution_count": 86,
   "metadata": {},
   "outputs": [
    {
     "data": {
      "text/plain": [
       "array([0.39029242, 0.14478463, 0.07926977, 0.07088365, 0.06268456,\n",
       "       0.06086052, 0.05752587, 0.05391234, 0.04849447])"
      ]
     },
     "execution_count": 86,
     "metadata": {},
     "output_type": "execute_result"
    }
   ],
   "source": [
    "pca.explained_variance_ratio_"
   ]
  },
  {
   "cell_type": "code",
   "execution_count": 88,
   "metadata": {},
   "outputs": [
    {
     "data": {
      "text/plain": [
       "Text(0, 0.5, 'Cumulative explained variance')"
      ]
     },
     "execution_count": 88,
     "metadata": {},
     "output_type": "execute_result"
    },
    {
     "data": {
      "image/png": "[encoded data removed]",
      "text/plain": [
       "<Figure size 576x432 with 1 Axes>"
      ]
     },
     "metadata": {
      "needs_background": "light"
     },
     "output_type": "display_data"
    }
   ],
   "source": [
    "plt.figure(figsize = (8,6))\n",
    "plt.plot(range(1,10), pca.explained_variance_ratio_.cumsum(), marker='o', linestyle='--')\n",
    "plt.title('Variance by Components')\n",
    "plt.xlabel('Number of components')\n",
    "plt.ylabel('Cumulative explained variance')"
   ]
  },
  {
   "cell_type": "markdown",
   "metadata": {},
   "source": [
    "As we have to preserve 80% of variance, we will retain the 6 components capturing 80% variance. "
   ]
  },
  {
   "cell_type": "code",
   "execution_count": 89,
   "metadata": {},
   "outputs": [],
   "source": [
    "pca = PCA(n_components = 6)"
   ]
  },
  {
   "cell_type": "code",
   "execution_count": 90,
   "metadata": {},
   "outputs": [
    {
     "data": {
      "text/plain": [
       "PCA(n_components=6)"
      ]
     },
     "execution_count": 90,
     "metadata": {},
     "output_type": "execute_result"
    }
   ],
   "source": [
    "pca.fit(covid_std)"
   ]
  },
  {
   "cell_type": "code",
   "execution_count": 91,
   "metadata": {},
   "outputs": [],
   "source": [
    "scores_pca_med = pca.transform(covid_std)"
   ]
  },
  {
   "cell_type": "code",
   "execution_count": 92,
   "metadata": {},
   "outputs": [],
   "source": [
    "from sklearn_extra.cluster import KMedoids\n",
    "kmedoids = KMedoids(n_clusters = 3, random_state = 0).fit(scores_pca_med)"
   ]
  },
  {
   "cell_type": "code",
   "execution_count": 96,
   "metadata": {},
   "outputs": [
    {
     "data": {
      "image/png": "[encoded data removed]",
      "text/plain": [
       "<Figure size 432x288 with 1 Axes>"
      ]
     },
     "metadata": {
      "needs_background": "light"
     },
     "output_type": "display_data"
    }
   ],
   "source": [
    "plt.scatter(scores_pca_med[:, 1], scores_pca_med[:, 2], c=kmedoids.labels_,\n",
    "            s=50, cmap='viridis');"
   ]
  }
 ],
 "metadata": {
  "kernelspec": {
   "display_name": "Python 3",
   "language": "python",
   "name": "python3"
  },
  "language_info": {
   "codemirror_mode": {
    "name": "ipython",
    "version": 3
   },
   "file_extension": ".py",
   "mimetype": "text/x-python",
   "name": "python",
   "nbconvert_exporter": "python",
   "pygments_lexer": "ipython3",
   "version": "3.7.6"
  }
 },
 "nbformat": 4,
 "nbformat_minor": 4
}
